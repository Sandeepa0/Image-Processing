{
 "cells": [
  {
   "cell_type": "code",
   "execution_count": 14,
   "metadata": {},
   "outputs": [
    {
     "name": "stderr",
     "output_type": "stream",
     "text": [
      "C:\\Users\\sande\\AppData\\Local\\Temp\\ipykernel_17084\\3884665982.py:26: RuntimeWarning: overflow encountered in scalar multiply\n",
      "  normalized_ssd = ssd / (np.prod(image1_resized.shape) * np.max(image1_resized)**2)\n"
     ]
    },
    {
     "name": "stdout",
     "output_type": "stream",
     "text": [
      "Normalized SSD (Nearest): 0.06297231780420724\n",
      "Normalized SSD (Bilinear): 0.0\n"
     ]
    }
   ],
   "source": [
    "import cv2\n",
    "import numpy as np\n",
    "import matplotlib.pyplot as plt\n",
    "\n",
    "def zoom_image(image, zoom_factor, interpolation='nearest'):\n",
    "    height, width = image.shape[:2]\n",
    "\n",
    "    new_height = int(height * zoom_factor)\n",
    "    new_width = int(width * zoom_factor)\n",
    "\n",
    "    if interpolation == 'nearest':\n",
    "        interpolation_method = cv2.INTER_NEAREST\n",
    "    elif interpolation == 'bilinear':\n",
    "        interpolation_method = cv2.INTER_LINEAR\n",
    "    else:\n",
    "        raise ValueError(\"Invalid interpolation method. Use 'nearest' or 'bilinear'.\")\n",
    "\n",
    "    zoomed_image = cv2.resize(image, (new_width, new_height), interpolation=interpolation_method)\n",
    "\n",
    "    return zoomed_image\n",
    "\n",
    "def compute_normalized_ssd(image1, image2):\n",
    "    image1_resized = cv2.resize(image1, (image2.shape[1], image2.shape[0]))\n",
    "\n",
    "    ssd = np.sum((image1_resized - image2)**2)\n",
    "    normalized_ssd = ssd / (np.prod(image1_resized.shape) * np.max(image1_resized)**2)\n",
    "    return normalized_ssd\n",
    "\n",
    "image_path = 'im01small.png'\n",
    "original_image = cv2.imread(image_path)\n",
    "\n",
    "zoomed_nearest = zoom_image(original_image, 4, interpolation='nearest')\n",
    "zoomed_bilinear = zoom_image(original_image, 4, interpolation='bilinear')\n",
    "\n",
    "ssd_nearest = compute_normalized_ssd(original_image, zoomed_nearest)\n",
    "print(f\"Normalized SSD (Nearest): {ssd_nearest}\")\n",
    "\n",
    "ssd_bilinear = compute_normalized_ssd(original_image, zoomed_bilinear)\n",
    "print(f\"Normalized SSD (Bilinear): {ssd_bilinear}\")\n",
    "\n",
    "cv2.imshow('Original Image', original_image)\n",
    "cv2.imshow('Zoomed (Nearest)', zoomed_nearest)\n",
    "cv2.imshow('Zoomed (Bilinear)', zoomed_bilinear)\n",
    "\n",
    "cv2.waitKey(0)\n",
    "cv2.destroyAllWindows()\n"
   ]
  },
  {
   "cell_type": "code",
   "execution_count": 15,
   "metadata": {},
   "outputs": [
    {
     "name": "stderr",
     "output_type": "stream",
     "text": [
      "C:\\Users\\sande\\AppData\\Local\\Temp\\ipykernel_17084\\178774059.py:26: RuntimeWarning: overflow encountered in scalar multiply\n",
      "  normalized_ssd = ssd / (np.prod(image1_resized.shape) * np.max(image1_resized)**2)\n"
     ]
    },
    {
     "name": "stdout",
     "output_type": "stream",
     "text": [
      "Normalized SSD (Nearest): -0.04714864261354409\n",
      "Normalized SSD (Bilinear): -0.0\n"
     ]
    }
   ],
   "source": [
    "import cv2\n",
    "import numpy as np\n",
    "import matplotlib.pyplot as plt\n",
    "\n",
    "def zoom_image(image, zoom_factor, interpolation='nearest'):\n",
    "    height, width = image.shape[:2]\n",
    "\n",
    "    new_height = int(height * zoom_factor)\n",
    "    new_width = int(width * zoom_factor)\n",
    "\n",
    "    if interpolation == 'nearest':\n",
    "        interpolation_method = cv2.INTER_NEAREST\n",
    "    elif interpolation == 'bilinear':\n",
    "        interpolation_method = cv2.INTER_LINEAR\n",
    "    else:\n",
    "        raise ValueError(\"Invalid interpolation method. Use 'nearest' or 'bilinear'.\")\n",
    "\n",
    "    zoomed_image = cv2.resize(image, (new_width, new_height), interpolation=interpolation_method)\n",
    "\n",
    "    return zoomed_image\n",
    "\n",
    "def compute_normalized_ssd(image1, image2):\n",
    "    image1_resized = cv2.resize(image1, (image2.shape[1], image2.shape[0]))\n",
    "\n",
    "    ssd = np.sum((image1_resized - image2)**2)\n",
    "    normalized_ssd = ssd / (np.prod(image1_resized.shape) * np.max(image1_resized)**2)\n",
    "    return normalized_ssd\n",
    "\n",
    "image_path = 'im02small.png'\n",
    "original_image = cv2.imread(image_path)\n",
    "\n",
    "zoomed_nearest = zoom_image(original_image, 2, interpolation='nearest')\n",
    "zoomed_bilinear = zoom_image(original_image, 2, interpolation='bilinear')\n",
    "\n",
    "ssd_nearest = compute_normalized_ssd(original_image, zoomed_nearest)\n",
    "print(f\"Normalized SSD (Nearest): {ssd_nearest}\")\n",
    "\n",
    "ssd_bilinear = compute_normalized_ssd(original_image, zoomed_bilinear)\n",
    "print(f\"Normalized SSD (Bilinear): {ssd_bilinear}\")\n",
    "\n",
    "cv2.imshow('Original Image', original_image)\n",
    "cv2.imshow('Zoomed (Nearest)', zoomed_nearest)\n",
    "cv2.imshow('Zoomed (Bilinear)', zoomed_bilinear)\n",
    "\n",
    "cv2.waitKey(0)\n",
    "cv2.destroyAllWindows()\n"
   ]
  },
  {
   "cell_type": "code",
   "execution_count": 19,
   "metadata": {},
   "outputs": [
    {
     "name": "stderr",
     "output_type": "stream",
     "text": [
      "C:\\Users\\sande\\AppData\\Local\\Temp\\ipykernel_17084\\3714466733.py:25: RuntimeWarning: overflow encountered in scalar multiply\n",
      "  normalized_ssd = ssd / (np.prod(image1_resized.shape) * np.max(image1_resized)**2)\n"
     ]
    },
    {
     "name": "stdout",
     "output_type": "stream",
     "text": [
      "Normalized SSD (Nearest): -0.02458785043400765\n",
      "Normalized SSD (Bilinear): -0.0\n"
     ]
    }
   ],
   "source": [
    "import cv2\n",
    "import numpy as np\n",
    "\n",
    "def zoom_image(image, zoom_factor, interpolation='nearest'):\n",
    "    height, width = image.shape[:2]\n",
    "\n",
    "    new_height = int(height * zoom_factor)\n",
    "    new_width = int(width * zoom_factor)\n",
    "\n",
    "    if interpolation == 'nearest':\n",
    "        interpolation_method = cv2.INTER_NEAREST\n",
    "    elif interpolation == 'bilinear':\n",
    "        interpolation_method = cv2.INTER_LINEAR\n",
    "    else:\n",
    "        raise ValueError(\"Invalid interpolation method. Use 'nearest' or 'bilinear'.\")\n",
    "\n",
    "    zoomed_image = cv2.resize(image, (new_width, new_height), interpolation=interpolation_method)\n",
    "\n",
    "    return zoomed_image\n",
    "\n",
    "def compute_normalized_ssd(image1, image2):\n",
    "    image1_resized = cv2.resize(image1, (image2.shape[1], image2.shape[0]))\n",
    "\n",
    "    ssd = np.sum((image1_resized - image2)**2)\n",
    "    normalized_ssd = ssd / (np.prod(image1_resized.shape) * np.max(image1_resized)**2)\n",
    "    return normalized_ssd\n",
    "\n",
    "image_path = 'im04small.jpg'\n",
    "original_image = cv2.imread(image_path)\n",
    "\n",
    "if original_image is None:\n",
    "    raise FileNotFoundError(f\"Image not found or cannot be read: {image_path}\")\n",
    "\n",
    "zoomed_nearest = zoom_image(original_image, 6, interpolation='nearest')\n",
    "zoomed_bilinear = zoom_image(original_image, 6, interpolation='bilinear')\n",
    "\n",
    "if zoomed_nearest is None or zoomed_bilinear is None:\n",
    "    raise RuntimeError(\"Error in zooming process. Check image dimensions and interpolation method.\")\n",
    "\n",
    "ssd_nearest = compute_normalized_ssd(original_image, zoomed_nearest)\n",
    "print(f\"Normalized SSD (Nearest): {ssd_nearest}\")\n",
    "\n",
    "ssd_bilinear = compute_normalized_ssd(original_image, zoomed_bilinear)\n",
    "print(f\"Normalized SSD (Bilinear): {ssd_bilinear}\")\n",
    "\n",
    "cv2.imshow('Original Image', original_image)\n",
    "cv2.imshow('Zoomed (Nearest)', zoomed_nearest)\n",
    "cv2.imshow('Zoomed (Bilinear)', zoomed_bilinear)\n",
    "\n",
    "cv2.waitKey(0)\n",
    "cv2.destroyAllWindows()\n"
   ]
  }
 ],
 "metadata": {
  "kernelspec": {
   "display_name": "Python 3",
   "language": "python",
   "name": "python3"
  },
  "language_info": {
   "codemirror_mode": {
    "name": "ipython",
    "version": 3
   },
   "file_extension": ".py",
   "mimetype": "text/x-python",
   "name": "python",
   "nbconvert_exporter": "python",
   "pygments_lexer": "ipython3",
   "version": "3.12.1"
  }
 },
 "nbformat": 4,
 "nbformat_minor": 2
}
